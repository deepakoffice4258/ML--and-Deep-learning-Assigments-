{
 "cells": [
  {
   "cell_type": "markdown",
   "id": "46ad7713",
   "metadata": {},
   "source": [
    "# 1. Recognize the differences between supervised, semi-supervised, and unsupervised learning."
   ]
  },
  {
   "cell_type": "markdown",
   "id": "3ddaa176",
   "metadata": {},
   "source": [
    "Semi-supervised learning aims to label unlabeled data points using knowledge learned from a small number of labeled data points. Unsupervised learning does not have (or need) any labeled outputs, so its goal is to infer the natural structure present within a set of data points"
   ]
  },
  {
   "cell_type": "markdown",
   "id": "81cc2f46",
   "metadata": {},
   "source": [
    "# 2. Describe in detail any five examples of classification problems."
   ]
  },
  {
   "cell_type": "markdown",
   "id": "004a4afb",
   "metadata": {},
   "source": [
    "Logistic regression.\n",
    "Decision trees.\n",
    "Random forest.\n",
    "XGBoost.\n",
    "Light GBM.\n",
    "Voting classifiers.\n",
    "Artificial neural networks.\n"
   ]
  },
  {
   "cell_type": "markdown",
   "id": "330e30cc",
   "metadata": {},
   "source": [
    "# 3. Describe each phase of the classification process in detail."
   ]
  },
  {
   "cell_type": "markdown",
   "id": "41ca3fd6",
   "metadata": {},
   "source": [
    "Generally the biomedical data classification process can be divided into four phases, namely (1) data acquisition and segmentation, (2) data preprocessing, (3) feature extraction/dimension reduction, and (4) recognition and classificatio"
   ]
  },
  {
   "cell_type": "markdown",
   "id": "251dd194",
   "metadata": {},
   "source": [
    "# 4. Go through the SVM model in depth using various scenarios."
   ]
  },
  {
   "cell_type": "markdown",
   "id": "f0487e4e",
   "metadata": {},
   "source": [
    "“Support Vector Machine” (SVM) is a supervised machine learning algorithm that can be used for both classification or regression challenges. However, it is mostly used in classification problems."
   ]
  },
  {
   "cell_type": "markdown",
   "id": "cbd32631",
   "metadata": {},
   "source": [
    "# 5. What are some of the benefits and drawbacks of SVM?"
   ]
  },
  {
   "cell_type": "markdown",
   "id": "407a2278",
   "metadata": {},
   "source": [
    "SVM works relatively well when there is a clear margin of separation between classes. SVM is more effective in high dimensional spaces. SVM is effective in cases where the number of dimensions is greater than the number of samples. SVM is relatively memory efficient."
   ]
  },
  {
   "cell_type": "markdown",
   "id": "b77e7725",
   "metadata": {},
   "source": [
    "# 6. Go over the kNN model in depth."
   ]
  },
  {
   "cell_type": "markdown",
   "id": "2674b492",
   "metadata": {},
   "source": [
    "The abbreviation KNN stands for “K-Nearest Neighbour”. It is a supervised machine learning algorithm. The algorithm can be used to solve both classification and regression problem statements. The number of nearest neighbours to a new unknown variable that has to be predicted or classified is denoted by the symbol 'K'."
   ]
  },
  {
   "cell_type": "markdown",
   "id": "b350e1bc",
   "metadata": {},
   "source": [
    "# 7. Discuss the kNN algorithm"
   ]
  },
  {
   "cell_type": "markdown",
   "id": "c0eba025",
   "metadata": {},
   "source": [
    "KNN works by finding the distances between a query and all the examples in the data, selecting the specified number examples (K) closest to the query, then votes for the most frequent label (in the case of classification) or averages the labels (in the case of regression)."
   ]
  },
  {
   "cell_type": "markdown",
   "id": "946dc865",
   "metadata": {},
   "source": [
    "# 8. Describe the different ways to scan a decision tree."
   ]
  },
  {
   "cell_type": "markdown",
   "id": "cf700b52",
   "metadata": {},
   "source": [
    "Decision trees are used for handling non-linear data sets effectively. The decision tree tool is used in real life in many areas, such as engineering, civil planning, law, and business. Decision trees can be divided into two types; categorical variable and continuous variable decision trees."
   ]
  },
  {
   "cell_type": "markdown",
   "id": "c2f28a79",
   "metadata": {},
   "source": [
    "# 9. Describe in depth the decision tree algorithm."
   ]
  },
  {
   "cell_type": "markdown",
   "id": "9807421e",
   "metadata": {},
   "source": [
    "Tree depth is a measure of how many splits a tree can make before coming to a prediction. This process could be continued further with more splitting until the tree is as pure as possible. The problem with many repetitions of this process is that this can lead to a very deep classification tree with many nodes."
   ]
  },
  {
   "cell_type": "markdown",
   "id": "07f02905",
   "metadata": {},
   "source": [
    "# 10. In a decision tree, what is inductive bias? What would you do to stop overfitting?"
   ]
  },
  {
   "cell_type": "markdown",
   "id": "1c689733",
   "metadata": {},
   "source": [
    "The inductive bias (also known as learning bias) of a learning algorithm is the set of assumptions that the learner uses to predict outputs of given inputs that it has not encountered. In machine learning, one aims to construct algorithms that are able to learn to predict a certain target output"
   ]
  },
  {
   "cell_type": "markdown",
   "id": "25eac381",
   "metadata": {},
   "source": [
    "# 11.Explain advantages and disadvantages of using a decision tree?"
   ]
  },
  {
   "cell_type": "markdown",
   "id": "1cab9d08",
   "metadata": {},
   "source": [
    "Advantages and Disadvantages of Decision Trees in Machine Learning. Decision Tree is used to solve both classification and regression problems. But the main drawback of Decision Tree is that it generally leads to overfitting of the data."
   ]
  },
  {
   "cell_type": "markdown",
   "id": "eb505763",
   "metadata": {},
   "source": [
    "# 12. Describe in depth the problems that are suitable for decision tree learning."
   ]
  },
  {
   "cell_type": "markdown",
   "id": "2f094a8f",
   "metadata": {},
   "source": [
    "Decision tree learning is generally best suited to problems with the following characteristics:\n",
    "Instances are represented by attribute-value pairs. ...\n",
    "The target function has discrete output values. ...\n",
    "Disjunctive descriptions may be required. ...\n",
    "The training data may contain errors."
   ]
  },
  {
   "cell_type": "markdown",
   "id": "113bb01e",
   "metadata": {},
   "source": [
    "# 13. Describe in depth the random forest model. What distinguishes a random forest?"
   ]
  },
  {
   "cell_type": "markdown",
   "id": "766aca52",
   "metadata": {},
   "source": [
    "The random forest is a classification algorithm consisting of many decisions trees. It uses bagging and feature randomness when building each individual tree to try to create an uncorrelated forest of trees whose prediction by committee is more accurate than that of any individual tree."
   ]
  },
  {
   "cell_type": "markdown",
   "id": "33ee322c",
   "metadata": {},
   "source": [
    "# 14. In a random forest, talk about OOB error and variable value."
   ]
  },
  {
   "cell_type": "code",
   "execution_count": null,
   "id": "8274e0c4",
   "metadata": {},
   "outputs": [],
   "source": []
  }
 ],
 "metadata": {
  "kernelspec": {
   "display_name": "Python 3",
   "language": "python",
   "name": "python3"
  },
  "language_info": {
   "codemirror_mode": {
    "name": "ipython",
    "version": 3
   },
   "file_extension": ".py",
   "mimetype": "text/x-python",
   "name": "python",
   "nbconvert_exporter": "python",
   "pygments_lexer": "ipython3",
   "version": "3.8.8"
  }
 },
 "nbformat": 4,
 "nbformat_minor": 5
}
