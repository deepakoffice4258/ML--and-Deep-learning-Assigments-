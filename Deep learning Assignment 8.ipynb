{
 "cells": [
  {
   "cell_type": "markdown",
   "id": "e9785697",
   "metadata": {},
   "source": [
    "# 1. What are the pros and cons of using a stateful RNN versus a stateless RNN?"
   ]
  },
  {
   "cell_type": "markdown",
   "id": "52b80fae",
   "metadata": {},
   "source": [
    "Setting an RNN to be stateful means that it can build a state across its training sequence and even maintain that state when doing predictions. The benefits of using stateful RNNs are smaller network sizes and/or lower training times."
   ]
  },
  {
   "cell_type": "markdown",
   "id": "03ed0f34",
   "metadata": {},
   "source": [
    "# 2. Why do people use Encoder–Decoder RNNs rather than plain sequence-to-sequence RNNs for automatic translation?"
   ]
  },
  {
   "cell_type": "markdown",
   "id": "0f3863ce",
   "metadata": {},
   "source": [
    "Attention is an extension to the architecture that addresses this limitation. It works by first providing a richer context from the encoder to the decoder and a learning mechanism where the decoder can learn where to pay attention in the richer encoding when predicting each time step in the output sequence."
   ]
  },
  {
   "cell_type": "markdown",
   "id": "17f05946",
   "metadata": {},
   "source": [
    "# 3. How can you deal with variable-length input sequences? What about variable-length output sequences?"
   ]
  },
  {
   "cell_type": "markdown",
   "id": "37ac3150",
   "metadata": {},
   "source": [
    "In the case of variable length sequence prediction problems, this requires that your data be transformed such that each sequence has the same length. This vectorization allows code to efficiently perform the matrix operations in batch for your chosen deep learning algorithms"
   ]
  },
  {
   "cell_type": "markdown",
   "id": "6a6162f8",
   "metadata": {},
   "source": [
    "# 4. What is beam search and why would you use it? What tool can you use to implement it?"
   ]
  },
  {
   "cell_type": "code",
   "execution_count": null,
   "id": "97ff9f6b",
   "metadata": {},
   "outputs": [],
   "source": []
  }
 ],
 "metadata": {
  "kernelspec": {
   "display_name": "Python 3",
   "language": "python",
   "name": "python3"
  },
  "language_info": {
   "codemirror_mode": {
    "name": "ipython",
    "version": 3
   },
   "file_extension": ".py",
   "mimetype": "text/x-python",
   "name": "python",
   "nbconvert_exporter": "python",
   "pygments_lexer": "ipython3",
   "version": "3.8.8"
  }
 },
 "nbformat": 4,
 "nbformat_minor": 5
}
