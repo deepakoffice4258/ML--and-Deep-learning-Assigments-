{
 "cells": [
  {
   "cell_type": "markdown",
   "id": "74f44ed2",
   "metadata": {},
   "source": [
    "# 1. What is the definition of a target function? In the sense of a real-life example, express the target function. How is a target function&#39;s fitness assessed?"
   ]
  },
  {
   "cell_type": "markdown",
   "id": "bdbb99be",
   "metadata": {},
   "source": [
    "A target function, in machine learning, is a method for solving a problem that an AI algorithm parses its training data to find. ... The function can then be used to find output data related to inputs for real problems where, unlike training sets, outputs are not included."
   ]
  },
  {
   "cell_type": "markdown",
   "id": "63132f76",
   "metadata": {},
   "source": [
    "# 2. What are predictive models, and how do they work? What are descriptive types, and how do you use them? Examples of both types of models should be provided. Distinguish between these two forms of models."
   ]
  },
  {
   "cell_type": "markdown",
   "id": "6a0c7bc7",
   "metadata": {},
   "source": [
    "A descriptive model will exploit the past data that are stored in databases and provide you with the accurate report. In a Predictive model, it identifies patterns found in past and transactional data to find risks and future outcomes."
   ]
  },
  {
   "cell_type": "markdown",
   "id": "e4f594df",
   "metadata": {},
   "source": [
    "# 3. Describe the method of assessing a classification model&#39;s efficiency in detail. Describe the various measurement parameters."
   ]
  },
  {
   "cell_type": "markdown",
   "id": "3a8d34f5",
   "metadata": {},
   "source": [
    "Logarithmic loss (or log loss) measures the performance of a classification model where the prediction is a probability value between 0 and 1. Log loss increases as the predicted probability diverge from the actual label. Log loss is a widely used metric for Kaggle competitions."
   ]
  },
  {
   "cell_type": "markdown",
   "id": "47602246",
   "metadata": {},
   "source": [
    "# 5. Is it possible to boost the efficiency of a learning model? If so, please clarify how."
   ]
  },
  {
   "cell_type": "markdown",
   "id": "64f31bae",
   "metadata": {},
   "source": [
    "Improving the accuracy of a machine learning model is a skill that can only improve with practice. The more projects you build, the better your intuition will get about which approach you should use next time to improve your model's accuracy."
   ]
  },
  {
   "cell_type": "markdown",
   "id": "b53783ac",
   "metadata": {},
   "source": [
    "# 6. How would you rate an unsupervised learning model&#39;s success? What are the most common success indicators for an unsupervised learning model?"
   ]
  },
  {
   "cell_type": "markdown",
   "id": "2f7b0418",
   "metadata": {},
   "source": [
    "In case of supervised learning, it is mostly done by measuring the performance metrics such as accuracy, precision, recall, AUC, etc. on the training set and the holdout sets."
   ]
  },
  {
   "cell_type": "markdown",
   "id": "e47c4a40",
   "metadata": {},
   "source": [
    "# 7. Is it possible to use a classification model for numerical data or a regression model for categorical data with a classification model? Explain your answer."
   ]
  },
  {
   "cell_type": "markdown",
   "id": "a9553928",
   "metadata": {},
   "source": [
    "Fundamentally, classification is about predicting a label and regression is about predicting a quantity. ... That classification is the problem of predicting a discrete class label output for an example. That regression is the problem of predicting a continuous quantity output for an example"
   ]
  },
  {
   "cell_type": "markdown",
   "id": "9ef852ff",
   "metadata": {},
   "source": [
    "# 8. Describe the predictive modeling method for numerical values. What distinguishes it from categorical predictive modeling?"
   ]
  },
  {
   "cell_type": "markdown",
   "id": "8c982a96",
   "metadata": {},
   "source": [
    "There are many different types of predictive modeling techniques including ANOVA, linear regression (ordinary least squares), logistic regression, ridge regression, time series, decision trees, neural networks, and many more"
   ]
  },
  {
   "cell_type": "markdown",
   "id": "12c7b238",
   "metadata": {},
   "source": [
    "# 9. The following data were collected when using a classification model to predict the malignancy of a group of patients&#39; tumors:\n",
    "# i. Accurate estimates – 15 cancerous, 75 benign\n",
    "# ii. Wrong predictions – 3 cancerous, 7 benign\n"
   ]
  },
  {
   "cell_type": "code",
   "execution_count": null,
   "id": "178ed24a",
   "metadata": {},
   "outputs": [],
   "source": [
    "1.What is Estimate Accuracy? Accuracy is the degree to which a measurement or calculation varies to its actual value; thus estimate accuracy is an indication of the degree to which the final cost outcome of a project may vary from the single point value used as the estimated cost for the project.\n",
    "2."
   ]
  }
 ],
 "metadata": {
  "kernelspec": {
   "display_name": "Python 3",
   "language": "python",
   "name": "python3"
  },
  "language_info": {
   "codemirror_mode": {
    "name": "ipython",
    "version": 3
   },
   "file_extension": ".py",
   "mimetype": "text/x-python",
   "name": "python",
   "nbconvert_exporter": "python",
   "pygments_lexer": "ipython3",
   "version": "3.8.8"
  }
 },
 "nbformat": 4,
 "nbformat_minor": 5
}
