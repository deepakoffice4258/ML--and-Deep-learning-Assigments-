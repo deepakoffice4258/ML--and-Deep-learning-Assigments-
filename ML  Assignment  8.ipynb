{
 "cells": [
  {
   "cell_type": "markdown",
   "id": "6323541e",
   "metadata": {},
   "source": [
    "# 1. What exactly is a feature? Give an example to illustrate your point."
   ]
  },
  {
   "cell_type": "markdown",
   "id": "c8543b5e",
   "metadata": {},
   "source": [
    "The definition of a feature is a part of the face, a quality, a special attraction, article or a major film showing in the theatre. An example of feature is a nose. An example of feature is freckles. An example of feature is a guest speaker at an event. An example of feature is a cover story in a magazine"
   ]
  },
  {
   "cell_type": "markdown",
   "id": "2fb53c64",
   "metadata": {},
   "source": [
    "# 2. What are the various circumstances in which feature construction is required?"
   ]
  },
  {
   "cell_type": "markdown",
   "id": "8c9795c2",
   "metadata": {},
   "source": [
    "Feature construction is a process which builds intermediate features from the original descriptors in a dataset. The aim is to build more efficient features for a machine data mining task. Learn more in: Using the Text Categorization Framework for Protein Classification"
   ]
  },
  {
   "cell_type": "markdown",
   "id": "7d91b1c1",
   "metadata": {},
   "source": [
    "# 3. Describe how nominal variables are encoded."
   ]
  },
  {
   "cell_type": "markdown",
   "id": "b8d0de10",
   "metadata": {},
   "source": [
    "A column with nominal data has values that cannot be ordered in any meaningful way. Nominal data is most often one-hot (aka dummy) encoded, but there are many options that might perform better for machine learning. Rank. In contrast, ordinal data can be rank ordered."
   ]
  },
  {
   "cell_type": "markdown",
   "id": "1f471ef6",
   "metadata": {},
   "source": [
    "# 4. Describe how numeric features are converted to categorical features."
   ]
  },
  {
   "cell_type": "markdown",
   "id": "c2394532",
   "metadata": {},
   "source": [
    "You may need to apply two kinds of transformations to numeric data: Normalizing - transforming numeric data to the same scale as other numeric data. Bucketing - transforming numeric (usually continuous) data to categorical data."
   ]
  },
  {
   "cell_type": "markdown",
   "id": "9840753f",
   "metadata": {},
   "source": [
    "# 5. Describe the feature selection wrapper approach. State the advantages and disadvantages of this approach?"
   ]
  },
  {
   "cell_type": "markdown",
   "id": "d48b42e4",
   "metadata": {},
   "source": [
    "In wrapper methods, the feature selection process is based on a specific machine learning algorithm that we are trying to fit on a given dataset. ... Finally, it selects the combination of features that gives the optimal results for the specified machine learning algorithm."
   ]
  },
  {
   "cell_type": "markdown",
   "id": "9e382cd1",
   "metadata": {},
   "source": [
    "# 6. When is a feature considered irrelevant? What can be said to quantify it?"
   ]
  },
  {
   "cell_type": "markdown",
   "id": "ac2c5317",
   "metadata": {},
   "source": [
    "Feature Selection is the process where you automatically or manually select those features which contribute most to your prediction variable or output in which you are interested in. Having irrelevant features in your data can decrease the accuracy of the models and make your model learn based on irrelevant features."
   ]
  },
  {
   "cell_type": "markdown",
   "id": "3d749425",
   "metadata": {},
   "source": [
    "# 7. When is a function considered redundant? What criteria are used to identify features that could be redundant?"
   ]
  },
  {
   "cell_type": "markdown",
   "id": "ffa1a251",
   "metadata": {},
   "source": [
    "Redundant features add no relevant information to your other features, because they are correlated or because they can be obtained by [linear] combination of other features. Having them on your set will not add anything, but it won't hurt either, information-wise."
   ]
  },
  {
   "cell_type": "markdown",
   "id": "f793cf48",
   "metadata": {},
   "source": [
    "# 8. What are the various distance measurements used to determine feature similarity?"
   ]
  },
  {
   "cell_type": "markdown",
   "id": "f2abf9c4",
   "metadata": {},
   "source": [
    "The Jaccard distance measures the similarity of the two data set items as the intersection of those items divided by the union of the data items. When p = 2, Minkowski distance is same as the Euclidean distance. When p = 1, Minkowski distance is same as the Manhattan distance"
   ]
  },
  {
   "cell_type": "markdown",
   "id": "9a7814d5",
   "metadata": {},
   "source": [
    "# 9. State difference between Euclidean and Manhattan distances?"
   ]
  },
  {
   "cell_type": "markdown",
   "id": "76b0415b",
   "metadata": {},
   "source": [
    " Hamming distances are positive integers that represent the number of pieces of data you would have to change to convert one data point into another. Euclidean distance is the length of the line segment that connects two coordinates"
   ]
  },
  {
   "cell_type": "markdown",
   "id": "c1538463",
   "metadata": {},
   "source": [
    "# 10. Distinguish between feature transformation and feature selection."
   ]
  },
  {
   "cell_type": "markdown",
   "id": "f9f2b3d1",
   "metadata": {},
   "source": [
    "transformation of data to improve the accuracy of the algorithm; feature selection: removing unnecessary features."
   ]
  }
 ],
 "metadata": {
  "kernelspec": {
   "display_name": "Python 3",
   "language": "python",
   "name": "python3"
  },
  "language_info": {
   "codemirror_mode": {
    "name": "ipython",
    "version": 3
   },
   "file_extension": ".py",
   "mimetype": "text/x-python",
   "name": "python",
   "nbconvert_exporter": "python",
   "pygments_lexer": "ipython3",
   "version": "3.8.8"
  }
 },
 "nbformat": 4,
 "nbformat_minor": 5
}
