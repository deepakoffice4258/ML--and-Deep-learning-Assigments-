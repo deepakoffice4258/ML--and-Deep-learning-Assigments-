{
 "cells": [
  {
   "cell_type": "markdown",
   "id": "e9547dd1",
   "metadata": {},
   "source": [
    "# 1. What is the concept of supervised learning? What is the significance of the name?"
   ]
  },
  {
   "cell_type": "markdown",
   "id": "9a4e85ee",
   "metadata": {},
   "source": [
    "Supervised machine learning algorithms are designed to learn by example. The name “supervised” learning originates from the idea that training this type of algorithm is like having a teacher supervise the whole process"
   ]
  },
  {
   "cell_type": "markdown",
   "id": "6eff5e66",
   "metadata": {},
   "source": [
    "# 2. In the hospital sector, offer an example of supervised learning."
   ]
  },
  {
   "cell_type": "markdown",
   "id": "cc326689",
   "metadata": {},
   "source": [
    "Some popular examples of supervised machine learning algorithms are: Linear regression for regression problems. Random forest for classification and regression problems. Support vector machines for classification problems."
   ]
  },
  {
   "cell_type": "markdown",
   "id": "b4aad6b7",
   "metadata": {},
   "source": [
    "# 3. Give three supervised learning examples."
   ]
  },
  {
   "cell_type": "markdown",
   "id": "484652c8",
   "metadata": {},
   "source": [
    "Some popular examples of supervised machine learning algorithms are:\n",
    "Linear regression for regression problems.\n",
    "Random forest for classification and regression problems.\n",
    "Support vector machines for classification problems."
   ]
  },
  {
   "cell_type": "markdown",
   "id": "fbee8d6e",
   "metadata": {},
   "source": [
    "# 4. In supervised learning, what are classification and regression?"
   ]
  },
  {
   "cell_type": "markdown",
   "id": "3539fa46",
   "metadata": {},
   "source": [
    "A classification algorithm may predict a continuous value, but the continuous value is in the form of a probability for a class label. A regression algorithm may predict a discrete value, but the discrete value in the form of an integer quantity."
   ]
  },
  {
   "cell_type": "markdown",
   "id": "8c6398a6",
   "metadata": {},
   "source": [
    "# 5. Give some popular classification algorithms as examples."
   ]
  },
  {
   "cell_type": "markdown",
   "id": "eea6d6c7",
   "metadata": {},
   "source": [
    "Top 5 Classification Algorithms in Machine Learning\n",
    "Logistic Regression.\n",
    "Naive Bayes.\n",
    "K-Nearest Neighbors.\n",
    "Decision Tree.\n",
    "Support Vector Machines."
   ]
  },
  {
   "cell_type": "markdown",
   "id": "cb3112db",
   "metadata": {},
   "source": [
    "# 6. Briefly describe the SVM model."
   ]
  },
  {
   "cell_type": "markdown",
   "id": "8a4059c8",
   "metadata": {},
   "source": [
    "“Support Vector Machine” (SVM) is a supervised machine learning algorithm that can be used for both classification or regression challenges. However, it is mostly used in classification problems. ... The SVM classifier is a frontier that best segregates the two classes (hyper-plane/ line)."
   ]
  },
  {
   "cell_type": "markdown",
   "id": "e3d5b16e",
   "metadata": {},
   "source": [
    "# 7. In SVM, what is the cost of misclassification?"
   ]
  },
  {
   "cell_type": "markdown",
   "id": "f4113263",
   "metadata": {},
   "source": [
    "In cost-sensitive learning instead of each instance being either correctly or incorrectly classified, each class (or instance) is given a misclassification cost. Thus, instead of trying to optimize the accuracy, the problem is then to minimize the total misclassification cost."
   ]
  },
  {
   "cell_type": "markdown",
   "id": "f26b3e27",
   "metadata": {},
   "source": [
    "# 8. In the SVM model, define Support Vectors."
   ]
  },
  {
   "cell_type": "markdown",
   "id": "adc7aae4",
   "metadata": {},
   "source": [
    "The data points or vectors that are the closest to the hyperplane and which affect the position of the hyperplane are termed as Support Vector. Since these vectors support the hyperplane, hence called a Support vector."
   ]
  },
  {
   "cell_type": "markdown",
   "id": "3a9a536e",
   "metadata": {},
   "source": [
    "# 9. In the SVM model, define the kernel."
   ]
  },
  {
   "cell_type": "markdown",
   "id": "cd1a4da2",
   "metadata": {},
   "source": [
    "“Kernel” is used due to set of mathematical functions used in Support Vector Machine provides the window to manipulate the data. So, Kernel Function generally transforms the training set of data so that a non-linear decision surface is able to transformed to a linear equation in a higher number of dimension spaces."
   ]
  },
  {
   "cell_type": "markdown",
   "id": "6771ad11",
   "metadata": {},
   "source": [
    "# 10. What are the benefits of using the SVM model?"
   ]
  },
  {
   "cell_type": "markdown",
   "id": "ba25014c",
   "metadata": {},
   "source": [
    "It is effective in high dimensional spaces. It is effective in cases where the number of dimensions is greater than the number of samples. It uses a subset of training points in the decision function (called support vectors), so it is also memory efficient."
   ]
  }
 ],
 "metadata": {
  "kernelspec": {
   "display_name": "Python 3",
   "language": "python",
   "name": "python3"
  },
  "language_info": {
   "codemirror_mode": {
    "name": "ipython",
    "version": 3
   },
   "file_extension": ".py",
   "mimetype": "text/x-python",
   "name": "python",
   "nbconvert_exporter": "python",
   "pygments_lexer": "ipython3",
   "version": "3.8.8"
  }
 },
 "nbformat": 4,
 "nbformat_minor": 5
}
