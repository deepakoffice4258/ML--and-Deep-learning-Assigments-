{
 "cells": [
  {
   "cell_type": "markdown",
   "id": "94b0f3cf",
   "metadata": {},
   "source": [
    "# 1. Can you think of a few applications for a sequence-to-sequence RNN? What about a sequence-to-vector RNN, and a vector-to-sequence RNN?"
   ]
  },
  {
   "cell_type": "markdown",
   "id": "ba214fe9",
   "metadata": {},
   "source": [
    "In Sequence to Sequence Learning, RNN is trained to map an input sequence to an output sequence which is not necessarily of the same length. Applications are speech recognition, machine translation, image captioning and question answering."
   ]
  },
  {
   "cell_type": "markdown",
   "id": "5fca6968",
   "metadata": {},
   "source": [
    "# 2. How many dimensions must the inputs of an RNN layer have? What does each dimension represent? What about its outputs?"
   ]
  },
  {
   "cell_type": "markdown",
   "id": "fcd596c0",
   "metadata": {},
   "source": [
    "I will use an example approach to explain the RNN architecture. Before we get down to business, an important thing to note is that the RNN input needs to have 3 dimensions. Typically it would be batch size, the number of steps and number of features."
   ]
  },
  {
   "cell_type": "markdown",
   "id": "4718a489",
   "metadata": {},
   "source": [
    "# 3. If you want to build a deep sequence-to-sequence RNN, which RNN layers should have return_sequences=True? What about a sequence-to-vector RNN?"
   ]
  },
  {
   "cell_type": "markdown",
   "id": "b3bb8578",
   "metadata": {},
   "source": [
    "These examples show that there are different applications of sequence models. Sometimes both the input and output are sequences, in some either the input or the output is a sequence. Recurrent neural network (RNN) is a popular sequence model that has shown efficient performance for sequential data"
   ]
  },
  {
   "cell_type": "markdown",
   "id": "ee4141eb",
   "metadata": {},
   "source": [
    "# 4. Suppose you have a daily univariate time series, and you want to forecast the next seven days. Which RNN architecture should you use?"
   ]
  },
  {
   "cell_type": "markdown",
   "id": "0407f3b2",
   "metadata": {},
   "source": [
    "LSTM (Long Short-Term Memory) is a Recurrent Neural Network (RNN) based architecture that is widely used in natural language processing and time series forecasting. ... Using a series of 'gates,' each with its own RNN, the LSTM manages to keep, forget or ignore data points based on a probabilistic model"
   ]
  },
  {
   "cell_type": "markdown",
   "id": "55f6daef",
   "metadata": {},
   "source": [
    "# 5. What are the main difficulties when training RNNs? How can you handle them?"
   ]
  },
  {
   "cell_type": "markdown",
   "id": "1364d0c1",
   "metadata": {},
   "source": [
    "There are two widely known issues with properly training Recurrent Neural Networks, the vanishing and the exploding gradient problems detailed in Bengio et al. (1994)."
   ]
  },
  {
   "cell_type": "markdown",
   "id": "762f9cf3",
   "metadata": {},
   "source": [
    "# 6. Can you sketch the LSTM cell’s architecture?"
   ]
  },
  {
   "cell_type": "markdown",
   "id": "448dd241",
   "metadata": {},
   "source": [
    "Long short-term memory (LSTM) is an artificial recurrent neural network (RNN) architecture used in the field of deep learning. ... LSTM networks are well-suited to classifying, processing and making predictions based on time series data, since there can be lags of unknown duration between important events in a time series."
   ]
  },
  {
   "cell_type": "markdown",
   "id": "8b1faaad",
   "metadata": {},
   "source": [
    "# 7. Why would you want to use 1D convolutional layers in an RNN?"
   ]
  },
  {
   "cell_type": "code",
   "execution_count": null,
   "id": "8d946f25",
   "metadata": {},
   "outputs": [],
   "source": []
  }
 ],
 "metadata": {
  "kernelspec": {
   "display_name": "Python 3",
   "language": "python",
   "name": "python3"
  },
  "language_info": {
   "codemirror_mode": {
    "name": "ipython",
    "version": 3
   },
   "file_extension": ".py",
   "mimetype": "text/x-python",
   "name": "python",
   "nbconvert_exporter": "python",
   "pygments_lexer": "ipython3",
   "version": "3.8.8"
  }
 },
 "nbformat": 4,
 "nbformat_minor": 5
}
