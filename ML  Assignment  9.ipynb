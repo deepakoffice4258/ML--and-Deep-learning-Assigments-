{
 "cells": [
  {
   "cell_type": "markdown",
   "id": "619fec89",
   "metadata": {},
   "source": [
    "# 1. What is feature engineering, and how does it work? Explain the various aspects of feature engineering in depth."
   ]
  },
  {
   "cell_type": "markdown",
   "id": "0326dfd7",
   "metadata": {},
   "source": [
    "Feature engineering is the process of selecting, manipulating, and transforming raw data into features that can be used in supervised learning. In order to make machine learning work well on new tasks, it might be necessary to design and train better features."
   ]
  },
  {
   "cell_type": "markdown",
   "id": "db1ee39f",
   "metadata": {},
   "source": [
    "# 2. What is feature selection, and how does it work? What is the aim of it? What are the various methods of function selection?"
   ]
  },
  {
   "cell_type": "markdown",
   "id": "6ac79ff7",
   "metadata": {},
   "source": [
    "Feature selection is the process of reducing the number of input variables when developing a predictive model. It is desirable to reduce the number of input variables to both reduce the computational cost of modeling and, in some cases, to improve the performance of the model"
   ]
  },
  {
   "cell_type": "markdown",
   "id": "74afa078",
   "metadata": {},
   "source": [
    "# 3. Describe the function selection filter and wrapper approaches. State the pros and cons of each approach?"
   ]
  },
  {
   "cell_type": "markdown",
   "id": "5b19d0e6",
   "metadata": {},
   "source": [
    "The main differences between the filter and wrapper methods for feature selection are: Filter methods measure the relevance of features by their correlation with dependent variable while wrapper methods measure the usefulness of a subset of feature by actually training a model on it."
   ]
  },
  {
   "cell_type": "markdown",
   "id": "40b72eed",
   "metadata": {},
   "source": [
    "# 4. Describe the feature engineering process in the sense of a text categorization issue."
   ]
  },
  {
   "cell_type": "markdown",
   "id": "ba7a1e09",
   "metadata": {},
   "source": [
    "Feature Creation, Transformations, Feature Extraction, and Feature Selection. Feature engineering consists of creation, transformation, extraction, and selection of features, also known as variables, that are most conducive to creating an accurate ML algorithm."
   ]
  },
  {
   "cell_type": "markdown",
   "id": "290ef80d",
   "metadata": {},
   "source": [
    "# 5. What makes cosine similarity a good metric for text categorization? A document-term matrix has two rows with values of (2, 3, 2, 0, 2, 3, 3, 0, 1) and (2, 1, 0, 0, 3, 2, 1, 3, 1). Find the resemblance in cosine."
   ]
  },
  {
   "cell_type": "markdown",
   "id": "30ef2492",
   "metadata": {},
   "source": [
    "The cosine similarity is advantageous because even if the two similar documents are far apart by the Euclidean distance because of the size (like, the word 'cricket' appeared 50 times in one document and 10 times in another) they could still have a smaller angle between them. Smaller the angle, higher the similarity"
   ]
  },
  {
   "cell_type": "markdown",
   "id": "4b6d6d83",
   "metadata": {},
   "source": [
    "# 8. State what is meant by &quot;high-dimensional data set&quot;? Could you offer a few real-life examples? What are the difficulties in using machine learning techniques on a data set with many dimensions? What can be done about it?"
   ]
  },
  {
   "cell_type": "markdown",
   "id": "fa6529c5",
   "metadata": {},
   "source": [
    "When the data has high dimensions, there are patterns hidden in the data that cannot be easily identified by visual observation. This is the main reason the visualization of high-dimensional data is important. To achieve this goal of visualization, Dimensionality Reduction is required"
   ]
  }
 ],
 "metadata": {
  "kernelspec": {
   "display_name": "Python 3",
   "language": "python",
   "name": "python3"
  },
  "language_info": {
   "codemirror_mode": {
    "name": "ipython",
    "version": 3
   },
   "file_extension": ".py",
   "mimetype": "text/x-python",
   "name": "python",
   "nbconvert_exporter": "python",
   "pygments_lexer": "ipython3",
   "version": "3.8.8"
  }
 },
 "nbformat": 4,
 "nbformat_minor": 5
}
