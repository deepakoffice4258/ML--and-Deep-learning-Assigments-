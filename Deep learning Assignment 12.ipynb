{
 "cells": [
  {
   "cell_type": "markdown",
   "id": "ee952316",
   "metadata": {},
   "source": [
    "# 1. How does unsqueeze help us to solve certain broadcasting problems?"
   ]
  },
  {
   "cell_type": "markdown",
   "id": "cf7ba5a2",
   "metadata": {},
   "source": [
    "Returns a new tensor with a dimension of size one inserted at the specified position. The returned tensor shares the same underlying data with this tensor. A dim value within the range [-input."
   ]
  },
  {
   "cell_type": "markdown",
   "id": "adb28016",
   "metadata": {},
   "source": [
    "# 2. How can we use indexing to do the same operation as unsqueeze?"
   ]
  },
  {
   "cell_type": "markdown",
   "id": "c4a707f9",
   "metadata": {},
   "source": [
    "unsqueeze is a method to change the tensor dimensions, such that operations such as tensor multiplication can be possible. For example: If you want to multiply your tensor of size(4), with a tensor that has the size (4, N, N) then you'll get an error"
   ]
  },
  {
   "cell_type": "markdown",
   "id": "6db129b4",
   "metadata": {},
   "source": [
    "# 3. How do we show the actual contents of the memory used for a tensor?"
   ]
  },
  {
   "cell_type": "markdown",
   "id": "c4bccc71",
   "metadata": {},
   "source": [
    "The easiest[A] way to evaluate the actual value of a Tensor object is to pass it to the Session. run() method, or call Tensor. eval() when you have a default session (i.e. in a with tf"
   ]
  },
  {
   "cell_type": "markdown",
   "id": "4a43f979",
   "metadata": {},
   "source": [
    "# 4. Do broadcasting and expand_as result in increased memory use? Why or why not?"
   ]
  },
  {
   "cell_type": "markdown",
   "id": "3219b4ab",
   "metadata": {},
   "source": [
    "Variables of broadcast allow the developers of Spark to keep a secured read-only cached variable on different nodes. With the needed tasks, only shipping a copy merely. Without having to waste a lot of time and transfer of network input and output, they can be used in giving a node a large copy of the input dataset"
   ]
  },
  {
   "cell_type": "markdown",
   "id": "b4cea81b",
   "metadata": {},
   "source": [
    "# 6. Implement matmul using Einstein summation."
   ]
  },
  {
   "cell_type": "markdown",
   "id": "fe907c11",
   "metadata": {},
   "source": [
    "Einsum is implemented in numpy via np. einsum , in PyTorch via torch. einsum , and in TensorFlow via tf. einsum"
   ]
  },
  {
   "cell_type": "markdown",
   "id": "eb2d0eeb",
   "metadata": {},
   "source": [
    "# 7. What does a repeated index letter represent on the lefthand side of einsum?"
   ]
  },
  {
   "cell_type": "markdown",
   "id": "113ecd3d",
   "metadata": {},
   "source": [
    "Using the einsum function, we can specify operations on NumPy arrays using the Einstein summation convention. ... multiply A with B in a particular way to create new array of products, and then maybe. sum this new array along particular axes, and/or. transpose the axes of the array in a particular order"
   ]
  }
 ],
 "metadata": {
  "kernelspec": {
   "display_name": "Python 3",
   "language": "python",
   "name": "python3"
  },
  "language_info": {
   "codemirror_mode": {
    "name": "ipython",
    "version": 3
   },
   "file_extension": ".py",
   "mimetype": "text/x-python",
   "name": "python",
   "nbconvert_exporter": "python",
   "pygments_lexer": "ipython3",
   "version": "3.8.8"
  }
 },
 "nbformat": 4,
 "nbformat_minor": 5
}
