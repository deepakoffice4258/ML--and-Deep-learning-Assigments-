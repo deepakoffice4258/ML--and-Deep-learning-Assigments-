{
 "cells": [
  {
   "cell_type": "markdown",
   "id": "bcfce6ad",
   "metadata": {},
   "source": [
    "# 1. What are the advantages of a CNN over a fully connected DNN for image classification?"
   ]
  },
  {
   "cell_type": "markdown",
   "id": "8a20619e",
   "metadata": {},
   "source": [
    "CNNs are trained to identify and extract the best features from the images for the problem at hand. That is their main strength. The latter layers of a CNN are fully connected because of their strength as a classifier. So these two architectures aren't competing though as you may think as CNNs incorporate FC layers"
   ]
  },
  {
   "cell_type": "markdown",
   "id": "12c93725",
   "metadata": {},
   "source": [
    "# 3. If your GPU runs out of memory while training a CNN, what are five things you could try to solve the problem?"
   ]
  },
  {
   "cell_type": "markdown",
   "id": "3f168fbc",
   "metadata": {},
   "source": [
    "If your GPU runs out of memory while training a CNN, what are five things you could try to solve the problem? Reduce the mini-batch size. Reduce dimensionality using a larger stride in one or more layers. Remove one or more layers."
   ]
  },
  {
   "cell_type": "markdown",
   "id": "0d8ee027",
   "metadata": {},
   "source": [
    "# 4. Why would you want to add a max pooling layer rather than a convolutional layer with the same stride?"
   ]
  },
  {
   "cell_type": "markdown",
   "id": "e2d92e60",
   "metadata": {},
   "source": [
    "Max-pooling helps in extracting low-level features like edges, points, etc. While Avg-pooling goes for smooth features. If time constraint is not a problem, then one can skip the pooling layer and use a convolutional layer to do the same."
   ]
  },
  {
   "cell_type": "markdown",
   "id": "55dc0975",
   "metadata": {},
   "source": [
    "# 5. When would you want to add a local response normalization layer?"
   ]
  },
  {
   "cell_type": "markdown",
   "id": "00494793",
   "metadata": {},
   "source": [
    "Local Response Normalization (LRN) was first introduced in AlexNet architecture where the activation function used was ReLU as opposed to the more common tanh and sigmoid at that time. Apart from the reason mentioned above, the reason for using LRN was to encourage lateral inhibition."
   ]
  },
  {
   "cell_type": "markdown",
   "id": "69ffd87a",
   "metadata": {},
   "source": [
    "# 6. Can you name the main innovations in AlexNet, compared to LeNet-5? What about the main innovations in GoogLeNet, ResNet, SENet, and Xception?"
   ]
  },
  {
   "cell_type": "markdown",
   "id": "dfae0980",
   "metadata": {},
   "source": [
    "The main innovation introduced by AlexNet compared to the LeNet-5 was its sheer size. AlexNet main elements are the same: a sequence of convolutional and pooling layers followed by a couple of fully-connected layers"
   ]
  },
  {
   "cell_type": "markdown",
   "id": "3421ef61",
   "metadata": {},
   "source": [
    "# 7. What is a fully convolutional network? How can you convert a dense layer into a convolutional layer?"
   ]
  },
  {
   "cell_type": "markdown",
   "id": "49faebec",
   "metadata": {},
   "source": [
    " The fully convolutional network first uses a CNN to extract image features, then transforms the number of channels into the number of classes via a 1×1 convolutional layer, and finally transforms the height and width of the feature maps to those of the input image via the transposed convolution"
   ]
  },
  {
   "cell_type": "markdown",
   "id": "0291ed9b",
   "metadata": {},
   "source": [
    "# 8. What is the main technical difficulty of semantic segmentation?"
   ]
  },
  {
   "cell_type": "code",
   "execution_count": null,
   "id": "7e842396",
   "metadata": {},
   "outputs": [],
   "source": []
  }
 ],
 "metadata": {
  "kernelspec": {
   "display_name": "Python 3",
   "language": "python",
   "name": "python3"
  },
  "language_info": {
   "codemirror_mode": {
    "name": "ipython",
    "version": 3
   },
   "file_extension": ".py",
   "mimetype": "text/x-python",
   "name": "python",
   "nbconvert_exporter": "python",
   "pygments_lexer": "ipython3",
   "version": "3.8.8"
  }
 },
 "nbformat": 4,
 "nbformat_minor": 5
}
