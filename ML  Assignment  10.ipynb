{
 "cells": [
  {
   "cell_type": "markdown",
   "id": "98abb636",
   "metadata": {},
   "source": [
    "# 1. Define the Bayesian interpretation of probability.\n"
   ]
  },
  {
   "cell_type": "markdown",
   "id": "214f7092",
   "metadata": {},
   "source": [
    "Bayesian probability is an interpretation of the concept of probability, in which, instead of frequency or propensity of some phenomenon, probability is interpreted as reasonable expectation representing a state of knowledge or as quantification of a personal belief."
   ]
  },
  {
   "cell_type": "markdown",
   "id": "02cf1d04",
   "metadata": {},
   "source": [
    "# 2. Define probability of a union of two events with equation."
   ]
  },
  {
   "cell_type": "markdown",
   "id": "6d3f387e",
   "metadata": {},
   "source": [
    "The general probability addition rule for the union of two events states that P(A∪B)=P(A)+P(B)−P(A∩B) P ( A ∪ B ) = P ( A ) + P ( B ) − P ( A ∩ B ) , where A∩B A ∩ B is the intersection of the two sets. The addition rule can be shortened if the sets are disjoint: P(A∪B)=P(A)+P(B) P ( A ∪ B ) = P ( A ) + P ( B ) ."
   ]
  },
  {
   "cell_type": "markdown",
   "id": "ae7d6eb4",
   "metadata": {},
   "source": [
    "# 3. What is joint probability? What is its formula?"
   ]
  },
  {
   "cell_type": "markdown",
   "id": "43936414",
   "metadata": {},
   "source": [
    "Event “A” = The probability of getting a head in the first coin toss is 1/2 = 0.5. Event “B” = The probability of getting a tail in the second coin toss is 1/2 = 0.5. Therefore, the joint probability of event “A” and “B” is P(1/2) x P(1/2) = 0.25 = 25%."
   ]
  },
  {
   "cell_type": "markdown",
   "id": "0333db0b",
   "metadata": {},
   "source": [
    "# 4. What is chain rule of probability?"
   ]
  },
  {
   "cell_type": "markdown",
   "id": "4f312f23",
   "metadata": {},
   "source": [
    "From Wikipedia, the free encyclopedia. In probability theory, the chain rule (also called the general product rule) permits the calculation of any member of the joint distribution of a set of random variables using only conditional probabilities."
   ]
  },
  {
   "cell_type": "markdown",
   "id": "3b33c551",
   "metadata": {},
   "source": [
    "# 5. What is conditional probability means? What is the formula of it?"
   ]
  },
  {
   "cell_type": "markdown",
   "id": "8f2e1171",
   "metadata": {},
   "source": [
    "Conditional probability refers to the chances that some outcome occurs given that another event has also occurred. It is often stated as the probability of B given A and is written as P(B|A), where the probability of B depends on that of A happening."
   ]
  },
  {
   "cell_type": "markdown",
   "id": "a251305d",
   "metadata": {},
   "source": [
    "# 6. What are continuous random variables?"
   ]
  },
  {
   "cell_type": "markdown",
   "id": "984bf1fe",
   "metadata": {},
   "source": [
    "If an experiment can result in an infinite, non-countable number of outcomes, then the random variable defined can be “continuous”. Whenever the value of a random variable is measured rather than counted, a continuous random variable is defined. Water level in the reservoir."
   ]
  },
  {
   "cell_type": "markdown",
   "id": "c8a06e9f",
   "metadata": {},
   "source": [
    "# 7. What are Bernoulli distributions? What is the formula of it?"
   ]
  },
  {
   "cell_type": "markdown",
   "id": "7d6f22cc",
   "metadata": {},
   "source": [
    "Bernoulli distribution is a discrete probability distribution where the Bernoulli random variable can have only 0 or 1 as the outcome. p is the probability of success and 1 - p is the probability of failure. The mean of a Bernoulli distribution is E[X] = p and the variance, Var[X] = p(1-p)."
   ]
  },
  {
   "cell_type": "markdown",
   "id": "9d774fad",
   "metadata": {},
   "source": [
    "# 8. What is binomial distribution? What is the formula?"
   ]
  },
  {
   "cell_type": "markdown",
   "id": "4c78be34",
   "metadata": {},
   "source": [
    "The binomial distribution is given by the formula: P(X= x) = nCxpxqn-x, where = 0, 1, 2, 3, … P(X = 6) = 105/512. Hence, the probability of getting exactly 6 heads is 105/512."
   ]
  },
  {
   "cell_type": "markdown",
   "id": "5810cf75",
   "metadata": {},
   "source": [
    "# 9. What is Poisson distribution? What is the formula?"
   ]
  },
  {
   "cell_type": "markdown",
   "id": "f0e5d1d6",
   "metadata": {},
   "source": [
    "In Poisson distribution, the mean of the distribution is represented by λ and e is constant, which is approximately equal to 2.71828. Then, the Poisson probability is: P(x, λ ) =(e– λ λx)/x! In Poisson distribution, the mean is represented as E(X) = λ."
   ]
  },
  {
   "cell_type": "markdown",
   "id": "9a7cce60",
   "metadata": {},
   "source": [
    "# 10. Define covariance."
   ]
  },
  {
   "cell_type": "markdown",
   "id": "8d956790",
   "metadata": {},
   "source": [
    "Covariance is a measure of how much two random variables vary together. It's similar to variance, but where variance tells you how a single variable varies, co variance tells you how two variables vary together."
   ]
  },
  {
   "cell_type": "markdown",
   "id": "682993a8",
   "metadata": {},
   "source": [
    "# 11. Define correlation"
   ]
  },
  {
   "cell_type": "markdown",
   "id": "b8eb8fdb",
   "metadata": {},
   "source": [
    "Meaning of correlation: Correlation is a statistical tool which studies the relationship between two variables e.g. change in price leads to change in quantity demanded. Correlation studies and measures the direction and intensity of relationship among variables."
   ]
  },
  {
   "cell_type": "markdown",
   "id": "1eb3d407",
   "metadata": {},
   "source": [
    "# 12. Define sampling with replacement. Give example."
   ]
  },
  {
   "cell_type": "markdown",
   "id": "ad632b1e",
   "metadata": {},
   "source": [
    "Sampling with replacement is used to find probability with replacement. In other words, you want to find the probability of some event where there's a number of balls, cards or other objects, and you replace the item each time you choose one. Let's say you had a population of 7 people, and you wanted to sample 2."
   ]
  },
  {
   "cell_type": "markdown",
   "id": "7f1b199e",
   "metadata": {},
   "source": [
    "# 13. What is sampling without replacement? Give example."
   ]
  },
  {
   "cell_type": "markdown",
   "id": "196c4161",
   "metadata": {},
   "source": [
    "If I sample two without replacement, then I first pick one (say 14). I had a 1/7 probability of choosing that one. Then I pick another. At this point, there are only six possibilities: 12, 13, 15, 16, 17, and 18"
   ]
  },
  {
   "cell_type": "markdown",
   "id": "86e80d18",
   "metadata": {},
   "source": [
    "# 14. What is hypothesis? Give example."
   ]
  },
  {
   "cell_type": "markdown",
   "id": "61180cfe",
   "metadata": {},
   "source": [
    "f garlic repels fleas, then a dog that is given garlic every day will not get fleas. Bacterial growth may be affected by moisture levels in the air. If sugar causes cavities, then people who eat a lot of candy may be more prone to cavities"
   ]
  }
 ],
 "metadata": {
  "kernelspec": {
   "display_name": "Python 3",
   "language": "python",
   "name": "python3"
  },
  "language_info": {
   "codemirror_mode": {
    "name": "ipython",
    "version": 3
   },
   "file_extension": ".py",
   "mimetype": "text/x-python",
   "name": "python",
   "nbconvert_exporter": "python",
   "pygments_lexer": "ipython3",
   "version": "3.8.8"
  }
 },
 "nbformat": 4,
 "nbformat_minor": 5
}
