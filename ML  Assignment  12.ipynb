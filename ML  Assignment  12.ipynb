{
 "cells": [
  {
   "cell_type": "markdown",
   "id": "08f948db",
   "metadata": {},
   "source": [
    "# 1. What is prior probability? Give an example."
   ]
  },
  {
   "cell_type": "markdown",
   "id": "7442f644",
   "metadata": {},
   "source": [
    "Prior probability shows the likelihood of an outcome in a given dataset. For example, in the mortgage case, P(Y) is the default rate on a home mortgage, which is 2%. P(Y|X) is called the conditional probability, which provides the probability of an outcome given the evidence, that is, when the value of X is known."
   ]
  },
  {
   "cell_type": "markdown",
   "id": "e7feddc3",
   "metadata": {},
   "source": [
    "# 2. What is posterior probability? Give an example."
   ]
  },
  {
   "cell_type": "markdown",
   "id": "f682d52d",
   "metadata": {},
   "source": [
    "Posterior probability = prior probability + new evidence (called likelihood). For example, historical data suggests that around 60% of students who start college will graduate within 6 years."
   ]
  },
  {
   "cell_type": "markdown",
   "id": "aaffcd27",
   "metadata": {},
   "source": [
    "# 3. What is likelihood probability? Give an example."
   ]
  },
  {
   "cell_type": "markdown",
   "id": "6769e1f9",
   "metadata": {},
   "source": [
    "Probability is about a finite set of possible outcomes, given a probability. Likelihood is about an infinite set of possible probabilities, given an outcome"
   ]
  },
  {
   "cell_type": "markdown",
   "id": "c7113ed9",
   "metadata": {},
   "source": [
    "# 4. What is Naïve Bayes classifier? Why is it named so?"
   ]
  },
  {
   "cell_type": "markdown",
   "id": "2393d6b5",
   "metadata": {},
   "source": [
    "Naive Bayes is a supervised learning algorithm used for classification tasks. Hence, it is also called Naive Bayes Classifier. ... The key difference is that naive bayes assumes that features are independent of each other and there is no correlation between features. However, this is not the case in real life."
   ]
  },
  {
   "cell_type": "markdown",
   "id": "06317cad",
   "metadata": {},
   "source": [
    "# 5. What is optimal Bayes classifier?"
   ]
  },
  {
   "cell_type": "markdown",
   "id": "9d53ad34",
   "metadata": {},
   "source": [
    "Bayes Optimal Classifier is a probabilistic model that finds the most probable prediction using the training data and space of hypotheses to make a prediction for a new data instance"
   ]
  },
  {
   "cell_type": "markdown",
   "id": "d97b4299",
   "metadata": {},
   "source": [
    "# 6. Write any two features of Bayesian learning methods."
   ]
  },
  {
   "cell_type": "markdown",
   "id": "45915b00",
   "metadata": {},
   "source": [
    "This provides a more flexible approach to learning than algorithms that completely eliminate a hypothesis if it is found to be inconsistent with any single example. – a probability distribution over observed data for each possible hypothesis."
   ]
  },
  {
   "cell_type": "markdown",
   "id": "4c44a500",
   "metadata": {},
   "source": [
    "# 7. Define the concept of consistent learners."
   ]
  },
  {
   "cell_type": "markdown",
   "id": "db0d1b1a",
   "metadata": {},
   "source": [
    "Someone who is consistent always behaves in the same way, has the same attitudes towards people or things, or achieves the same level of success in something."
   ]
  },
  {
   "cell_type": "markdown",
   "id": "715a7ed4",
   "metadata": {},
   "source": [
    "# 8. Write any two strengths of Bayes classifier."
   ]
  },
  {
   "cell_type": "markdown",
   "id": "64200497",
   "metadata": {},
   "source": [
    "It is easy and fast to predict the class of the test data set. It also performs well in multi-class prediction. When assumption of independence holds, a Naive Bayes classifier performs better compare to other models like logistic regression and you need less training data"
   ]
  },
  {
   "cell_type": "markdown",
   "id": "bca8e832",
   "metadata": {},
   "source": [
    "# 9. Write any two weaknesses of Bayes classifier."
   ]
  },
  {
   "cell_type": "markdown",
   "id": "911d8d26",
   "metadata": {},
   "source": [
    "If your test data set has a categorical variable of a category that wasn't present in the training data set, the Naive Bayes model will assign it zero probability and won't be able to make any predictions in this regard."
   ]
  }
 ],
 "metadata": {
  "kernelspec": {
   "display_name": "Python 3",
   "language": "python",
   "name": "python3"
  },
  "language_info": {
   "codemirror_mode": {
    "name": "ipython",
    "version": 3
   },
   "file_extension": ".py",
   "mimetype": "text/x-python",
   "name": "python",
   "nbconvert_exporter": "python",
   "pygments_lexer": "ipython3",
   "version": "3.8.8"
  }
 },
 "nbformat": 4,
 "nbformat_minor": 5
}
