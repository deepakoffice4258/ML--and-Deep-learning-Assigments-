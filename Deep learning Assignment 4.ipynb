{
 "cells": [
  {
   "cell_type": "markdown",
   "id": "bc4a28d9",
   "metadata": {},
   "source": [
    "# 1. How would you describe TensorFlow in a short sentence? What are its main features? Can you name other popular Deep Learning libraries?"
   ]
  },
  {
   "cell_type": "markdown",
   "id": "4183eed7",
   "metadata": {},
   "source": [
    "It is an open source artificial intelligence library, using data flow graphs to build models. It allows developers to create large-scale neural networks with many layers. TensorFlow is mainly used for: Classification, Perception, Understanding, Discovering, Prediction and Creation."
   ]
  },
  {
   "cell_type": "markdown",
   "id": "3d483b5c",
   "metadata": {},
   "source": [
    "# 2. Is TensorFlow a drop-in replacement for NumPy? What are the main differences between the two?"
   ]
  },
  {
   "cell_type": "markdown",
   "id": "5a50fc5b",
   "metadata": {},
   "source": [
    "Numpy is a linear algebra library for python, and one of the most important and popular libraries in Data Science. TensorFlow is a reimplementation of the Numpy API and can be accessed as tf. ... Last but not least, TensorFlow is sensitive highly about datatypes used. They cannot be implicitly mixed."
   ]
  },
  {
   "cell_type": "markdown",
   "id": "1e94d7ed",
   "metadata": {},
   "source": [
    "# 3. Do you get the same result with tf.range(10) and tf.constant(np.arange(10))?"
   ]
  },
  {
   "cell_type": "markdown",
   "id": "5ff64107",
   "metadata": {},
   "source": [
    "In TensorFlow the differences between constants and variables are that when you declare some constant, its value can't be changed in the future (also the initialization should be with a value, not with operation). Nevertheless, when you declare a Variable, you can change its value in the future with tf"
   ]
  },
  {
   "cell_type": "markdown",
   "id": "9866ed8f",
   "metadata": {},
   "source": [
    "# 4. Can you name six other data structures available in TensorFlow, beyond regular tensors?"
   ]
  },
  {
   "cell_type": "markdown",
   "id": "235e7029",
   "metadata": {},
   "source": [
    "A vector is a one-dimensional or first order tensor and a matrix is a two-dimensional or second order tensor. Tensor notation is much like matrix notation with a capital letter representing a tensor and lowercase letters with subscript integers representing scalar values within the tensor."
   ]
  },
  {
   "cell_type": "markdown",
   "id": "e46f3afe",
   "metadata": {},
   "source": [
    "# 5. A custom loss function can be defined by writing a function or by subclassing the keras.losses.Loss class. When would you use each option?"
   ]
  },
  {
   "cell_type": "markdown",
   "id": "05f82831",
   "metadata": {},
   "source": [
    "A custom loss function can be created by defining a function that takes the true values and predicted values as required parameters. The function should return an array of losses. The function can then be passed at the compile stage."
   ]
  },
  {
   "cell_type": "markdown",
   "id": "de64c3de",
   "metadata": {},
   "source": [
    "# 6. Similarly, a custom metric can be defined in a function or a subclass of keras.metrics.Metric. When would you use each option?"
   ]
  },
  {
   "cell_type": "markdown",
   "id": "483cf8c4",
   "metadata": {},
   "source": [
    "\n",
    "Calculates how often predictions equal labels. This metric creates two local variables, total and count that are used to compute the frequency with which y_pred matches y_true ."
   ]
  },
  {
   "cell_type": "markdown",
   "id": "71b566c4",
   "metadata": {},
   "source": [
    "# 7. When should you create a custom layer versus a custom model?"
   ]
  },
  {
   "cell_type": "markdown",
   "id": "e8b8dd7a",
   "metadata": {},
   "source": [
    "keras. Layer class and implementing: __init__ , where you can do all input-independent initialization. build , where you know the shapes of the input tensors and can do the rest of the initialization."
   ]
  }
 ],
 "metadata": {
  "kernelspec": {
   "display_name": "Python 3",
   "language": "python",
   "name": "python3"
  },
  "language_info": {
   "codemirror_mode": {
    "name": "ipython",
    "version": 3
   },
   "file_extension": ".py",
   "mimetype": "text/x-python",
   "name": "python",
   "nbconvert_exporter": "python",
   "pygments_lexer": "ipython3",
   "version": "3.8.8"
  }
 },
 "nbformat": 4,
 "nbformat_minor": 5
}
