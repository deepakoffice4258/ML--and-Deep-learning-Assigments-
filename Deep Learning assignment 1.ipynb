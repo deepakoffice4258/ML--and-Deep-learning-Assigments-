{
 "cells": [
  {
   "cell_type": "markdown",
   "id": "0aea83e5",
   "metadata": {},
   "source": [
    "# 1.\tWhat is the function of a summation junction of a neuron? What is threshold activation function?"
   ]
  },
  {
   "cell_type": "markdown",
   "id": "83d3dfad",
   "metadata": {},
   "source": [
    "Summation is the process of adding things up. In the case of nervous system, it is about adding up the effect of multiple stimuli, that are all individually subthreshold, so that together they are suprathreshold and are able to generate an action potential (a response) Binary step function is a threshold-based activation function which means after a certain threshold neuron is activated and below the said threshold neuron is deactivated."
   ]
  },
  {
   "cell_type": "markdown",
   "id": "030574a6",
   "metadata": {},
   "source": [
    "# 2.\tWhat is a step function? What is the difference of step function with threshold function?"
   ]
  },
  {
   "cell_type": "markdown",
   "id": "c0397090",
   "metadata": {},
   "source": [
    "They calculates net output of a neural node. A threshold transfer function is sometimes used to quantify the output of a neuron in the output layer.Step Functions is ideal for coordinating session-based applications."
   ]
  },
  {
   "cell_type": "markdown",
   "id": "71c0dd4b",
   "metadata": {},
   "source": [
    "# 3.\tExplain the McCulloch–Pitts model of neuron."
   ]
  },
  {
   "cell_type": "markdown",
   "id": "d4eaec58",
   "metadata": {},
   "source": [
    "The McCulloch-Pitts model was an extremely simple artificial neuron. The inputs could be either a zero or a one. And the output was a zero or a one. And each input could be either excitatory or inhibitory."
   ]
  },
  {
   "cell_type": "markdown",
   "id": "b7eb5d59",
   "metadata": {},
   "source": [
    "# 4.\tExplain the ADALINE network model"
   ]
  },
  {
   "cell_type": "markdown",
   "id": "f62f67e6",
   "metadata": {},
   "source": [
    "ADALINE (Adaptive Linear Neuron or later Adaptive Linear Element) is an early single-layer artificial neural network and the name of the physical device that implemented this network. The network uses memistors. ... It is based on the McCulloch–Pitts neuron"
   ]
  },
  {
   "cell_type": "markdown",
   "id": "c6633ba1",
   "metadata": {},
   "source": [
    "# 5.\tWhat is the constraint of a simple perceptron? Why it may fail with a real-world data set?"
   ]
  },
  {
   "cell_type": "markdown",
   "id": "71a1f801",
   "metadata": {},
   "source": [
    "The perceptron is the building block of artificial neural networks, it is a simplified model of the biological neurons in our brain. A perceptron is the simplest neural network, one that is comprised of just one neuron."
   ]
  },
  {
   "cell_type": "markdown",
   "id": "45198144",
   "metadata": {},
   "source": [
    "# 6.\tWhat is linearly inseparable problem? What is the role of the hidden layer?"
   ]
  },
  {
   "cell_type": "markdown",
   "id": "292889c7",
   "metadata": {},
   "source": [
    "In Euclidean geometry, linear separability is a property of two sets of points. ... These two sets are linearly separable if there exists at least one line in the plane with all of the blue points on one side of the line and all the red points on the other side.In neural networks, a hidden layer is located between the input and output of the algorithm, in which the function applies weights to the inputs and directs them through an activation function as the output. In short, the hidden layers perform nonlinear transformations of the inputs entered into the network."
   ]
  },
  {
   "cell_type": "markdown",
   "id": "5850169b",
   "metadata": {},
   "source": [
    "# 7.\tExplain XOR problem in case of a simple perceptron."
   ]
  },
  {
   "cell_type": "markdown",
   "id": "c923ee96",
   "metadata": {},
   "source": [
    "XOR is where if one is 1 and other is 0 but not both. ... A \"single-layer\" perceptron can't implement XOR. "
   ]
  },
  {
   "cell_type": "markdown",
   "id": "ecaa936e",
   "metadata": {},
   "source": [
    "# 8.\tDesign a multi-layer perceptron to implement A XOR B."
   ]
  },
  {
   "cell_type": "markdown",
   "id": "6dd1ccd2",
   "metadata": {},
   "source": [
    "Linearly separable data basically means that you can separate data with a point in 1D, a line in 2D, a plane in 3D and so on. A perceptron can only converge on linearly separable data."
   ]
  },
  {
   "cell_type": "markdown",
   "id": "a4424853",
   "metadata": {},
   "source": [
    "# 9.\tExplain the single-layer feed forward architecture of ANN"
   ]
  },
  {
   "cell_type": "markdown",
   "id": "a872664b",
   "metadata": {},
   "source": [
    "A single-layer neural network represents the most simple form of neural network, in which there is only one layer of input nodes that send weighted inputs to a subsequent layer of receiving nodes, or in some cases, one receiving node."
   ]
  },
  {
   "cell_type": "markdown",
   "id": "a749383e",
   "metadata": {},
   "source": [
    "# 10.\tExplain the competitive network architecture of ANN."
   ]
  },
  {
   "cell_type": "markdown",
   "id": "f8c04f86",
   "metadata": {},
   "source": [
    "Competitive learning is a form of unsupervised learning in artificial neural networks, in which nodes compete for the right to respond to a subset of the input data"
   ]
  },
  {
   "cell_type": "markdown",
   "id": "928e1812",
   "metadata": {},
   "source": [
    "# 11.\tConsider a multi-layer feed forward neural network. Enumerate and explain steps in the backpropagation algorithm used to train the network"
   ]
  },
  {
   "cell_type": "markdown",
   "id": "0fc5c984",
   "metadata": {},
   "source": [
    " A Multilayer Feed-Forward Neural Network. The backpropagation algorithm performs learning on a multilayer feed-forward neural network. It iteratively learns a set of weights for prediction of the class label of tuples. "
   ]
  },
  {
   "cell_type": "markdown",
   "id": "c03967a4",
   "metadata": {},
   "source": [
    "# 12.\tWhat are the advantages and disadvantages of neural networks?"
   ]
  },
  {
   "cell_type": "markdown",
   "id": "7c575ea1",
   "metadata": {},
   "source": [
    "There are various advantages of neural networks, some of which are discussed below:\n",
    "Store information on the entire network. \n",
    "The ability to work with insufficient knowledge\n",
    "Disadvantages include its \"black box\" nature, greater computational burden, proneness to overfitting, and the empirical nature of model development."
   ]
  },
  {
   "cell_type": "markdown",
   "id": "3954f6fa",
   "metadata": {},
   "source": [
    "# 13.\tWrite short notes on any two of the following:\n",
    "    1.\tBiological neuron\n",
    "    2.\tReLU function\n",
    "    3.\tSingle-layer feed forward ANN\n",
    "    4.\tGradient descent\n",
    "    5.\tRecurrent networks\n"
   ]
  },
  {
   "cell_type": "code",
   "execution_count": null,
   "id": "0d7b501b",
   "metadata": {},
   "outputs": [],
   "source": [
    "1 Biological=In the biological systems, a neuron is a cell just like any other cell of the body, which has a DNA code and is generated in the same way as the other cells. Though it might have different DNA, the function is similar in all the organisms.\n",
    "2 ReLU function=The rectified linear activation function or ReLU for short is a piecewise linear function that will output the input directly if it is positive, otherwise, it will output zero.\n",
    "3 Single-layer feed forward ANN=A single-layer neural network represents the most simple form of neural network, in which there is only one layer of input nodes that send weighted inputs to a subsequent layer of receiving nodes, or in some cases, one receiving node\n",
    "4 Gradient descent=Gradient descent is an optimization algorithm that's used when training a machine learning model. \n",
    "5 Recurrent networks"
   ]
  }
 ],
 "metadata": {
  "kernelspec": {
   "display_name": "Python 3",
   "language": "python",
   "name": "python3"
  },
  "language_info": {
   "codemirror_mode": {
    "name": "ipython",
    "version": 3
   },
   "file_extension": ".py",
   "mimetype": "text/x-python",
   "name": "python",
   "nbconvert_exporter": "python",
   "pygments_lexer": "ipython3",
   "version": "3.8.8"
  }
 },
 "nbformat": 4,
 "nbformat_minor": 5
}
