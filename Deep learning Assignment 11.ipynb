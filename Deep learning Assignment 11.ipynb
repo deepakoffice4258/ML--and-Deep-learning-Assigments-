{
 "cells": [
  {
   "cell_type": "markdown",
   "id": "fa2b1829",
   "metadata": {},
   "source": [
    "# 1. Write the Python code to implement a single neuron."
   ]
  },
  {
   "cell_type": "markdown",
   "id": "64618ee2",
   "metadata": {},
   "source": [
    "Here is the entire code for this how to make a neural network in Python project: import numpy as np class NeuralNetwork(): def __init__(self): # seeding for random number generation np. random. seed(1) #converting weights to a 3 by 1 matrix with values from -1 to 1 and mean of 0 self"
   ]
  },
  {
   "cell_type": "markdown",
   "id": "95094838",
   "metadata": {},
   "source": [
    "# 2. Write the Python code to implement ReLU."
   ]
  },
  {
   "cell_type": "markdown",
   "id": "1b2ddf4c",
   "metadata": {},
   "source": [
    "To address the problem of zero gradient for negative value, Leaky ReLu gives an extremely small linear component of x to negative inputs. Mathematically: f(x)=1 (x<0) (αx)+1 (x>=0)(x)"
   ]
  },
  {
   "cell_type": "markdown",
   "id": "aa6c7bb6",
   "metadata": {},
   "source": [
    "# 3. What is the “hidden size” of a layer?"
   ]
  },
  {
   "cell_type": "markdown",
   "id": "934b5eb0",
   "metadata": {},
   "source": [
    "The size of the hidden layer is normally between the size of the input and output-. It should be should be 2/3 the size of the input layerplus the size of the o/p layer The number of hidden neurons should be less than twice the size of the input layer."
   ]
  },
  {
   "cell_type": "markdown",
   "id": "12b012ed",
   "metadata": {},
   "source": [
    "# 4. What does the t method do in PyTorch?"
   ]
  },
  {
   "cell_type": "markdown",
   "id": "ab46b23b",
   "metadata": {},
   "source": [
    "Expects input to be <= 2-D tensor and transposes dimensions 0 and 1. 0-D and 1-D tensors are returned as is. When input is a 2-D tensor this is equivalent to transpose(input, 0, 1) ."
   ]
  },
  {
   "cell_type": "markdown",
   "id": "1396bb4b",
   "metadata": {},
   "source": [
    "# 5. Why is matrix multiplication written in plain Python very slow?"
   ]
  },
  {
   "cell_type": "markdown",
   "id": "90240af9",
   "metadata": {},
   "source": [
    "\n",
    "Using numpy's builtin matmul function, it takes 999 μ s. Which is the fastest among all we have implemented so far"
   ]
  },
  {
   "cell_type": "markdown",
   "id": "fbfecf23",
   "metadata": {},
   "source": [
    "# 6. In matmul, why is ac==br?"
   ]
  },
  {
   "cell_type": "markdown",
   "id": "36552551",
   "metadata": {},
   "source": [
    "Let ar,ac be the number of rows and columns in A. Similarly, let br, bc be the number of rows and columns in B. Then in order to carry out matrix multiplication it is necessary that ac == br . ... That is the number of rows comes from A and the number of columns comes from B."
   ]
  },
  {
   "cell_type": "markdown",
   "id": "8b2a58a1",
   "metadata": {},
   "source": [
    "# 7. What is elementwise arithmetic?"
   ]
  },
  {
   "cell_type": "markdown",
   "id": "23600f21",
   "metadata": {},
   "source": [
    "Array arithmetic operations are carried out element by element, and can be used with multidimensional arrays. The period character ( . ) distinguishes the array operations from the matrix operations. However, since the matrix and array operations are the same for addition and subtraction, the character pairs "
   ]
  },
  {
   "cell_type": "markdown",
   "id": "4b43bc72",
   "metadata": {},
   "source": [
    "# 8. What are the broadcasting rules?"
   ]
  },
  {
   "cell_type": "markdown",
   "id": "51ecd23c",
   "metadata": {},
   "source": [
    "The term broadcasting describes how NumPy treats arrays with different shapes during arithmetic operations. Subject to certain constraints, the smaller array is “broadcast” across the larger array so that they have compatible shapes"
   ]
  }
 ],
 "metadata": {
  "kernelspec": {
   "display_name": "Python 3",
   "language": "python",
   "name": "python3"
  },
  "language_info": {
   "codemirror_mode": {
    "name": "ipython",
    "version": 3
   },
   "file_extension": ".py",
   "mimetype": "text/x-python",
   "name": "python",
   "nbconvert_exporter": "python",
   "pygments_lexer": "ipython3",
   "version": "3.8.8"
  }
 },
 "nbformat": 4,
 "nbformat_minor": 5
}
