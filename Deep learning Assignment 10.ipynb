{
 "cells": [
  {
   "cell_type": "markdown",
   "id": "dafa95b8",
   "metadata": {},
   "source": [
    "# 1. What does a SavedModel contain? How do you inspect its content?"
   ]
  },
  {
   "cell_type": "markdown",
   "id": "486cc652",
   "metadata": {},
   "source": [
    "A SavedModel is a directory containing serialized signatures and the state needed to run them, including variable values and vocabularies."
   ]
  },
  {
   "cell_type": "markdown",
   "id": "5091c0c5",
   "metadata": {},
   "source": [
    "# 2. When should you use TF Serving? What are its main features? What are some tools you can use to deploy it?"
   ]
  },
  {
   "cell_type": "markdown",
   "id": "63db6dbb",
   "metadata": {},
   "source": [
    "TensorFlow Serving is a flexible, high-performance serving system for machine learning models, designed for production environments. TensorFlow Serving makes it easy to deploy new algorithms and experiments, while keeping the same server architecture and APIs."
   ]
  },
  {
   "cell_type": "markdown",
   "id": "601b6d49",
   "metadata": {},
   "source": [
    "# 3. How do you deploy a model across multiple TF Serving instances?"
   ]
  },
  {
   "cell_type": "markdown",
   "id": "ede8d3a3",
   "metadata": {},
   "source": [
    "Basically TensorFlow serving creates a gRPC server where you can send and get a response from your model. ... Download a Docker image with TensorFlow serving already compile on it. Run the docker image with the correct configuration. Create a client in order to send the gRPC request."
   ]
  },
  {
   "cell_type": "markdown",
   "id": "1706d779",
   "metadata": {},
   "source": [
    "# 4. When should you use the gRPC API rather than the REST API to query a model served by TF Serving?"
   ]
  },
  {
   "cell_type": "markdown",
   "id": "985304ea",
   "metadata": {},
   "source": [
    "Rules. REST is a set of guidelines for designing web APIs without enforcing anything. On the other hand, gRPC enforces rules by defining a . proto file that must be adhered to by both client and server for data exchange"
   ]
  },
  {
   "cell_type": "markdown",
   "id": "ef850877",
   "metadata": {},
   "source": [
    "# 5. What are the different ways TFLite reduces a model’s size to make it run on a mobile or embedded device?"
   ]
  },
  {
   "cell_type": "markdown",
   "id": "0c7574ac",
   "metadata": {},
   "source": [
    "Reduce the size of a full support vector machine (SVM) classifier by removing the training data. Full SVM classifiers (that is, ClassificationSVM classifiers) hold the training data. To improve efficiency, use a smaller classifier. Load the ionosphere data set."
   ]
  },
  {
   "cell_type": "code",
   "execution_count": null,
   "id": "13bc63ab",
   "metadata": {},
   "outputs": [],
   "source": []
  }
 ],
 "metadata": {
  "kernelspec": {
   "display_name": "Python 3",
   "language": "python",
   "name": "python3"
  },
  "language_info": {
   "codemirror_mode": {
    "name": "ipython",
    "version": 3
   },
   "file_extension": ".py",
   "mimetype": "text/x-python",
   "name": "python",
   "nbconvert_exporter": "python",
   "pygments_lexer": "ipython3",
   "version": "3.8.8"
  }
 },
 "nbformat": 4,
 "nbformat_minor": 5
}
