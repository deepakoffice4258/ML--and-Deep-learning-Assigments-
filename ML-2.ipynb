{
 "cells": [
  {
   "cell_type": "markdown",
   "id": "7046148a",
   "metadata": {},
   "source": [
    "# 1.What is the concept of human learning?Please give two examples."
   ]
  },
  {
   "cell_type": "markdown",
   "id": "a46a7d8f",
   "metadata": {},
   "source": [
    "Humans acquire knowledge through experience either directly or shared by others. Machines acquire knowledge through experience shared in the form of past data.concepts from childhood. For example, when we see a dog and attach the term 'dog', we learn that the word dog refers to a particular animal.concepts from childhood. For example, when we see a cat and attach the term 'cat', we learn that the word dog refers to a particular animal."
   ]
  },
  {
   "cell_type": "markdown",
   "id": "40f08288",
   "metadata": {},
   "source": [
    "# 2. What different forms of human learning are there? Are there any machine learning equivalents?"
   ]
  },
  {
   "cell_type": "markdown",
   "id": "a16ad2c1",
   "metadata": {},
   "source": [
    "There are three main types of learning: classical conditioning, operant conditioning, and observational learning.in maschhin learning classical and contioning is equivalents."
   ]
  },
  {
   "cell_type": "markdown",
   "id": "c9c53908",
   "metadata": {},
   "source": [
    "# 3. What is machine learning, and how does it work? What are the key responsibilities of machine\n",
    "learning?"
   ]
  },
  {
   "cell_type": "markdown",
   "id": "7c529707",
   "metadata": {},
   "source": [
    "Machine learning is a form of artificial intelligence (AI) that teaches computers to think in a similar way to how humans do: Learning and improving upon past experiences. It works by exploring data and identifying patterns, and involves minimal human intervention.Designing ML systems.\n",
    "Researching and implementing ML algorithms and tools.\n",
    "Selecting appropriate data sets.\n",
    "Picking appropriate data representation methods.\n",
    "Identifying differences in data distribution that affects model performance.\n",
    "Verifying data quality."
   ]
  },
  {
   "cell_type": "markdown",
   "id": "5db76b52",
   "metadata": {},
   "source": [
    "# 4. Define the terms \"penalty\" and \"reward\" in the context of reinforcement learning."
   ]
  },
  {
   "cell_type": "markdown",
   "id": "6c0dd771",
   "metadata": {},
   "source": [
    "Reinforcement means you are increasing a behavior, and punishment means you are decreasing a behavior.The Reward Function is an incentive mechanism that tells the agent what is correct and what is wrong using reward and punishment. "
   ]
  },
  {
   "cell_type": "markdown",
   "id": "9455740c",
   "metadata": {},
   "source": [
    "# 5.Explain the term \"learning as a search\"?"
   ]
  },
  {
   "cell_type": "markdown",
   "id": "fe7b7a68",
   "metadata": {},
   "source": [
    "Learning can be viewed as a search through the space of all sentences in a concept description language for a sentence that best describes the data."
   ]
  },
  {
   "cell_type": "markdown",
   "id": "db5ff7b0",
   "metadata": {},
   "source": [
    "# 6. What are the various goals of machine learning? What is the relationship between these and\n",
    "human learning?"
   ]
  },
  {
   "cell_type": "markdown",
   "id": "89b549d6",
   "metadata": {},
   "source": [
    "Its goal and usage is to build new and/or leverage existing algorithms to learn from data, in order to build generalizable models that give accurate predictions, or to find patterns, particularly with new and unseen similar data.Humans acquire knowledge through experience either directly or shared by others. "
   ]
  },
  {
   "cell_type": "markdown",
   "id": "c21b8a11",
   "metadata": {},
   "source": [
    "# 7. Illustrate the various elements of machine learning using a real-life illustration."
   ]
  },
  {
   "cell_type": "markdown",
   "id": "f3d8d3b9",
   "metadata": {},
   "source": [
    "Image recognition. Image recognition is a well-known and widespread example of machine learning in the real world. \n",
    "Speech recognition. Machine learning can translate speech into text. \n",
    "Medical diagnosis. \n",
    "Statistical arbitrage. \n",
    "Predictive analytics. "
   ]
  },
  {
   "cell_type": "markdown",
   "id": "def378ba",
   "metadata": {},
   "source": [
    "# 8. Provide an example of the abstraction method."
   ]
  },
  {
   "cell_type": "markdown",
   "id": "aa4a2fc0",
   "metadata": {},
   "source": [
    "The abstraction method is a valuation procedure used to determine the land value relative to the total market value of the property"
   ]
  },
  {
   "cell_type": "markdown",
   "id": "e9c4f093",
   "metadata": {},
   "source": [
    "# 9. What is the concept of generalization? What function does it play in the machine learning\n",
    "process?"
   ]
  },
  {
   "cell_type": "markdown",
   "id": "5b70f6f1",
   "metadata": {},
   "source": [
    "generalization, in psychology, the tendency to respond in the same way to different but similar stimuli.\n",
    "Machine learning algorithms are described as learning a target function (f) that best maps input variables (X) to an output variable (Y)."
   ]
  },
  {
   "cell_type": "markdown",
   "id": "9f31bb10",
   "metadata": {},
   "source": [
    "# 10.What is classification, exactly? What are the main distinctions between classification and regression?"
   ]
  },
  {
   "cell_type": "markdown",
   "id": "514bf9ad",
   "metadata": {},
   "source": [
    "Classification is important because: It makes the study of such a wide variety of organisms easyClassification is the task of predicting a discrete class label. Regression is the task of predicting a continuous quantity."
   ]
  },
  {
   "cell_type": "markdown",
   "id": "c49a4bf4",
   "metadata": {},
   "source": [
    "# 11. What is regression, and how does it work? Give an example of a real-world problem that was\n",
    "solved using regression."
   ]
  },
  {
   "cell_type": "markdown",
   "id": "049e97de",
   "metadata": {},
   "source": [
    "On the most basic level, regression analysis reveals relationships between a dependent variable and a collection of independent variables in a fixed dataset.A simple linear regression real life example could mean you finding a relationship between the revenue and temperature, with a sample size for revenue as the dependent variable"
   ]
  },
  {
   "cell_type": "markdown",
   "id": "1c030ec2",
   "metadata": {},
   "source": [
    "# 12. Describe the clustering mechanism in detail."
   ]
  },
  {
   "cell_type": "markdown",
   "id": "44532b61",
   "metadata": {},
   "source": [
    "Clustering is the task of dividing the population or data points into a number of groups such that data points in the same groups are more similar to other data points in the same group than those in other groups."
   ]
  },
  {
   "cell_type": "markdown",
   "id": "715e3e35",
   "metadata": {},
   "source": [
    "# 13. Make brief observations on two of the following topics:\n",
    "  # 1 Machine learning algorithms are used\n",
    "   #2 Studying under supervision\n",
    "   #3 Studying without supervision\n",
    "   #4 Reinforcement learning is a form of learning based on positive reinforcement."
   ]
  },
  {
   "cell_type": "markdown",
   "id": "99b8ba04",
   "metadata": {},
   "source": [
    "1.At its most basic, machine learning uses programmed algorithms that receive and analyse input data to predict output values within an acceptable range.\n",
    "2.Supervised learning (SL) is the machine learning task of learning a function that maps an input to an output based on example input-output pairs.\n",
    "3.Unsupervised learning is a type of machine learning in which models are trained using unlabeled dataset and are allowed to act on that data without any supervision\n",
    "4.Reinforcement learning is a machine learning training method based on rewarding desired behaviors and/or punishing undesired ones."
   ]
  }
 ],
 "metadata": {
  "kernelspec": {
   "display_name": "Python 3",
   "language": "python",
   "name": "python3"
  },
  "language_info": {
   "codemirror_mode": {
    "name": "ipython",
    "version": 3
   },
   "file_extension": ".py",
   "mimetype": "text/x-python",
   "name": "python",
   "nbconvert_exporter": "python",
   "pygments_lexer": "ipython3",
   "version": "3.8.8"
  }
 },
 "nbformat": 4,
 "nbformat_minor": 5
}
