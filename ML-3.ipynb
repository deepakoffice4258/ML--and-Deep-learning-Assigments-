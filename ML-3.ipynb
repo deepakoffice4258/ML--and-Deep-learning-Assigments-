{
 "cells": [
  {
   "cell_type": "markdown",
   "id": "53657ace",
   "metadata": {},
   "source": [
    "# 1.Explain the term machine learning, and how does it work? Explain two machine learningapplications in the business world. What are some of the ethical concerns that machine learning applications could raise?"
   ]
  },
  {
   "cell_type": "markdown",
   "id": "c3a0a040",
   "metadata": {},
   "source": [
    "Machine learning (ML) is a type of artificial intelligence (AI) that allows software applications to become more accurate at predicting outcomes without being explicitly programmed to do so.Customer Lifetime Value Prediction. ...\n",
    "Increasing Customer Satisfaction.Cost to innovation.\n",
    "Harm to physical integrity.\n",
    "Lack of access to public services.\n",
    "Lack of trust."
   ]
  },
  {
   "cell_type": "markdown",
   "id": "09535ef6",
   "metadata": {},
   "source": [
    "# 2. Describe the process of human learning:\n",
    "    i. Under the supervision of experts\n",
    "    ii. With the assistance of experts in an indirect manner\n",
    "    iii. Self-education"
   ]
  },
  {
   "cell_type": "markdown",
   "id": "8e1b47e3",
   "metadata": {},
   "source": [
    "Autodidacticism (also autodidactism) or self-education (also self-learning and self-teaching) is education without the guidance of masters (such as teachers and professors) or institutions (such as schools)."
   ]
  },
  {
   "cell_type": "markdown",
   "id": "10141747",
   "metadata": {},
   "source": [
    "# 3. Provide a few examples of various types of machine learning."
   ]
  },
  {
   "cell_type": "markdown",
   "id": "dae882c2",
   "metadata": {},
   "source": [
    "Supervised Learning. Supervised learning is reckoned as the most popular and typical example of machine learning. ...\n",
    "Unsupervised Learning. Unsupervised learning is totally opposite to supervised learning. ...\n",
    "Reinforcement Learning."
   ]
  },
  {
   "cell_type": "markdown",
   "id": "f017628c",
   "metadata": {},
   "source": [
    "# 4. Examine the various forms of machine learning."
   ]
  },
  {
   "cell_type": "markdown",
   "id": "7028d835",
   "metadata": {},
   "source": [
    "Today, ML algorithms are trained using three prominent methods. These are three types of machine learning: supervised learning, unsupervised learning, and reinforcement learning."
   ]
  },
  {
   "cell_type": "markdown",
   "id": "23acb034",
   "metadata": {},
   "source": [
    "# 5. Can you explain what a well-posed learning problem is? Explain the main characteristics that must be present to identify a learning problem properly."
   ]
  },
  {
   "cell_type": "markdown",
   "id": "c75f0103",
   "metadata": {},
   "source": [
    "A (machine learning) problem is well-posed if a solution to it exists, if that solution is unique, and if that solution depends on the data / experience but it is not sensitive to (reasonably small) changes in the data / experience.Poor decoding skills.\n",
    "Poor reading fluency.\n",
    "Slow reading rate.\n",
    "Lack of self-monitoring reading skills."
   ]
  },
  {
   "cell_type": "markdown",
   "id": "4e073ef7",
   "metadata": {},
   "source": [
    "# 6. Is machine learning capable of solving all problems? Give a detailed explanation of your answer."
   ]
  },
  {
   "cell_type": "markdown",
   "id": "960a2a7f",
   "metadata": {},
   "source": [
    "No, that's definitely not true. The entire subfield of Supervised Learning is about prediction problems. Wikipedia has an incomplete list: List of machine learning algorithms"
   ]
  },
  {
   "cell_type": "markdown",
   "id": "9fdefae5",
   "metadata": {},
   "source": [
    "# 7. What are the various methods and technologies for solving machine learning problems? Any two of them should be defined in detail."
   ]
  },
  {
   "cell_type": "markdown",
   "id": "e3f97e70",
   "metadata": {},
   "source": [
    "Machine learning uses two types of techniques: supervised learning, which trains a model on known input and output data so that it can predict future outputs, and unsupervised learning, which finds hidden patterns or intrinsic structures in input data"
   ]
  },
  {
   "cell_type": "markdown",
   "id": "34448e0b",
   "metadata": {},
   "source": [
    "# 8. Can you explain the various forms of supervised learning? Explain each one with an example application."
   ]
  },
  {
   "cell_type": "markdown",
   "id": "217ad124",
   "metadata": {},
   "source": [
    "Supervised learning (SL) is the machine learning task of learning a function that maps an input to an output based on example input-output pairs. ... In supervised learning, each example is a pair consisting of an input object (typically a vector) and a desired output value (also called the supervisory signal)."
   ]
  },
  {
   "cell_type": "markdown",
   "id": "0cb7e627",
   "metadata": {},
   "source": [
    "# 9. What is the difference between supervised and unsupervised learning? With a sample application in each region, explain the differences."
   ]
  },
  {
   "cell_type": "markdown",
   "id": "5ce0e3d0",
   "metadata": {},
   "source": [
    "The main distinction between the two approaches is the use of labeled datasets. To put it simply, supervised learning uses labeled input and output data, while an unsupervised learning algorithm does not. Unsupervised learning models, in contrast, work on their own to discover the inherent structure of unlabeled data"
   ]
  },
  {
   "cell_type": "markdown",
   "id": "ef45b730",
   "metadata": {},
   "source": [
    "# 10. Describe the machine learning process in depth.\n",
    "a. Make brief notes on any two of the following:\n",
    "\n",
    "MATLAB is one of the most widely used programming languages.\n",
    "ii. Deep learning applications in healthcare\n",
    "\n",
    "iii. Study of the market basket\n",
    "\n",
    "iv. Linear regression (simple)"
   ]
  },
  {
   "cell_type": "markdown",
   "id": "437567cb",
   "metadata": {},
   "source": [
    "1)MATLAB is the easiest and most productive computing environment for engineers and scientists. It includes the MATLAB language, the only top programming language dedicated to mathematical and technical computing. In contrast, Python is a general-purpose programming language\n",
    "2)Deep learning applications in healthcare have already been seen in medical imaging solutions, chatbots that can identify patterns in patient symptoms\n",
    "3)Study of the market basket:-Market basket analysis is a data mining technique used by retailers to increase sales by better understanding customer purchasing patterns\n",
    "4)Linear regression (simple):-Simple linear regression is a regression model that estimates the relationship between one independent variable and one dependent variable using a straight line."
   ]
  },
  {
   "cell_type": "markdown",
   "id": "4f213ca5",
   "metadata": {},
   "source": [
    "# 11. Make a comparison between:-\n",
    "    1. Generalization and abstraction\n",
    "    2. Learning that is guided and unsupervised\n",
    "    3. Regression and classification\n",
    "    "
   ]
  },
  {
   "cell_type": "markdown",
   "id": "c5fde6b0",
   "metadata": {},
   "source": [
    "1)Abstraction is the process of removing details of objects. ... A generalization, then, is the formulation of general concepts from specific instances by abstracting common properties\n",
    "2)Unsupervised learning is the branch of machine learning that is aimed at learning patterns from data without labels. Supervised learning with millions of labels for image classification had driven the modern deep learning revolution in the past few years. \n",
    "3)That predictive modeling is about the problem of learning a mapping function from inputs to outputs called function approximation.\n",
    "That classification is the problem of predicting a discrete class label output for an example.\n",
    "That regression is the problem of predicting a continuous quantity output for an example."
   ]
  }
 ],
 "metadata": {
  "kernelspec": {
   "display_name": "Python 3",
   "language": "python",
   "name": "python3"
  },
  "language_info": {
   "codemirror_mode": {
    "name": "ipython",
    "version": 3
   },
   "file_extension": ".py",
   "mimetype": "text/x-python",
   "name": "python",
   "nbconvert_exporter": "python",
   "pygments_lexer": "ipython3",
   "version": "3.8.8"
  }
 },
 "nbformat": 4,
 "nbformat_minor": 5
}
