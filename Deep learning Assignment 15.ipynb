{
 "cells": [
  {
   "cell_type": "markdown",
   "id": "d5ef1eaa",
   "metadata": {},
   "source": [
    "# 1. Deep Learning. Tune the hyperparameters using cross-validation and see what precision you can\n",
    "achieve.."
   ]
  },
  {
   "cell_type": "markdown",
   "id": "8315ef73",
   "metadata": {},
   "source": [
    "Unlike model parameters, which are learned during model training and can not be set arbitrarily, hyperparameters are parameters that can be set by the user before training a Machine Learning model"
   ]
  },
  {
   "cell_type": "markdown",
   "id": "b2e373c9",
   "metadata": {},
   "source": [
    "# d. Now try adding Batch Normalization and compare the learning curves: is it converging faster than before? Does it produce a better model?"
   ]
  },
  {
   "cell_type": "markdown",
   "id": "3479003a",
   "metadata": {},
   "source": [
    "Using batch normalization makes the network more stable during training. This may require the use of much larger than normal learning rates, that in turn may further speed up the learning process"
   ]
  },
  {
   "cell_type": "markdown",
   "id": "497347f9",
   "metadata": {},
   "source": [
    "# e. Is the model overfitting the training set? Try adding dropout to every layer and try again. Does it help?"
   ]
  },
  {
   "cell_type": "markdown",
   "id": "259fab0c",
   "metadata": {},
   "source": [
    "Overfitting can be identified by checking validation metrics such as accuracy and loss. The validation metrics usually increase until a point where they stagnate or start declining when the model is affected by overfitting"
   ]
  },
  {
   "cell_type": "markdown",
   "id": "e8280e9c",
   "metadata": {},
   "source": [
    "# 2. Transfer learning.a. Create a new DNN that reuses all the pretrained hidden layers of the previous model, freezes them, and replaces the softmax output layer with a new one."
   ]
  },
  {
   "cell_type": "markdown",
   "id": "d81c3b96",
   "metadata": {},
   "source": [
    " Neural networks are a different breed of models compared to the supervised machine learning algorithms. Why do I say so? There are multiple reasons for that, but the most prominent is the cost of running algorithms on the hardware."
   ]
  },
  {
   "cell_type": "markdown",
   "id": "d30a3920",
   "metadata": {},
   "source": [
    "# b. Train this new DNN on digits 5 to 9, using only 100 images per digit, and time how long it takes. Despite this small number of examples, can you achieve high precision?"
   ]
  },
  {
   "cell_type": "markdown",
   "id": "873ed14e",
   "metadata": {},
   "source": [
    "Each image is a 28 by 28 pixel square (784 pixels total). A standard split of the dataset is used to evaluate and compare models, where 60,000 images are used to train a model and a separate set of 10,000 images are used to test it."
   ]
  },
  {
   "cell_type": "code",
   "execution_count": null,
   "id": "45ac1cb6",
   "metadata": {},
   "outputs": [],
   "source": []
  }
 ],
 "metadata": {
  "kernelspec": {
   "display_name": "Python 3",
   "language": "python",
   "name": "python3"
  },
  "language_info": {
   "codemirror_mode": {
    "name": "ipython",
    "version": 3
   },
   "file_extension": ".py",
   "mimetype": "text/x-python",
   "name": "python",
   "nbconvert_exporter": "python",
   "pygments_lexer": "ipython3",
   "version": "3.8.8"
  }
 },
 "nbformat": 4,
 "nbformat_minor": 5
}
