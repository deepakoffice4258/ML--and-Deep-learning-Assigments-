{
 "cells": [
  {
   "cell_type": "markdown",
   "id": "ea23f10e",
   "metadata": {},
   "source": [
    "# 1. Why would you want to use the Data API?"
   ]
  },
  {
   "cell_type": "markdown",
   "id": "3bad610c",
   "metadata": {},
   "source": [
    "APIs are needed to bring applications together in order to perform a designed function built around sharing data and executing pre-defined processes. They work as the middle man, allowing developers to build new programmatic interactions between the various applications people and businesses use on a daily basis."
   ]
  },
  {
   "cell_type": "markdown",
   "id": "d363356a",
   "metadata": {},
   "source": [
    "# 2. What are the benefits of splitting a large dataset into multiple files?"
   ]
  },
  {
   "cell_type": "markdown",
   "id": "e708329c",
   "metadata": {},
   "source": [
    "Splitting a shared database can help improve its performance and reduce the chance of database file corruption. After you split database, you may decide to move the back-end database, or to use a different back-end database. You can use the Linked Table Manager to change the back-end database that you use."
   ]
  },
  {
   "cell_type": "markdown",
   "id": "a453fb79",
   "metadata": {},
   "source": [
    "# 3. During training, how can you tell that your input pipeline is the bottleneck? What can you do to fix it?"
   ]
  },
  {
   "cell_type": "markdown",
   "id": "0348794b",
   "metadata": {},
   "source": [
    "A CPU bottleneck occurs when the GPU resource is under utilized as a result of one, or more of the CPUs, having reached maximum utilization. In this situation, the GPU will be partially idle while it waits for the CPU to pass in training data. This is an undesired state"
   ]
  },
  {
   "cell_type": "markdown",
   "id": "63b851e2",
   "metadata": {},
   "source": [
    "# 4. Can you save any binary data to a TFRecord file, or only serialized protocol buffers?"
   ]
  },
  {
   "cell_type": "markdown",
   "id": "f03bee09",
   "metadata": {},
   "source": [
    "A TFRecord file stores your data as a sequence of binary strings. This means you need to specify the structure of your data before you write it to the file. Tensorflow provides two components for this purpose: tf. ... You have to store each sample of your data in one of these structures, then serialize it and use a tf."
   ]
  },
  {
   "cell_type": "markdown",
   "id": "720998b0",
   "metadata": {},
   "source": [
    "# 5. Why would you go through the hassle of converting all your data to the Example protobuf format? Why not use your own protobuf definition?"
   ]
  },
  {
   "cell_type": "markdown",
   "id": "99edac55",
   "metadata": {},
   "source": [
    "Protocol Buffers (Protobuf) is a free and open-source cross-platform data format used to serialize structured data. It is useful in developing programs to communicate with each other over a network or for storing data."
   ]
  },
  {
   "cell_type": "markdown",
   "id": "bb250880",
   "metadata": {},
   "source": [
    "# 6. When using TFRecords, when would you want to activate compression? Why not do it systematically?"
   ]
  },
  {
   "cell_type": "markdown",
   "id": "5091c78a",
   "metadata": {},
   "source": [
    "The TFRecord format is a simple format for storing a sequence of binary records. Converting your data into TFRecord has many advantages, such as: More efficient storage: the TFRecord data can take up less space than the original data; it can also be partitioned into multiple files"
   ]
  },
  {
   "cell_type": "markdown",
   "id": "31383dfd",
   "metadata": {},
   "source": [
    "# 7. Data can be preprocessed directly when writing the data files, or within the tf.data pipeline, or in preprocessing layers within your model, or using TF Transform. Can you list a few pros and cons of each option?"
   ]
  },
  {
   "cell_type": "code",
   "execution_count": null,
   "id": "dacefa6d",
   "metadata": {},
   "outputs": [],
   "source": []
  }
 ],
 "metadata": {
  "kernelspec": {
   "display_name": "Python 3",
   "language": "python",
   "name": "python3"
  },
  "language_info": {
   "codemirror_mode": {
    "name": "ipython",
    "version": 3
   },
   "file_extension": ".py",
   "mimetype": "text/x-python",
   "name": "python",
   "nbconvert_exporter": "python",
   "pygments_lexer": "ipython3",
   "version": "3.8.8"
  }
 },
 "nbformat": 4,
 "nbformat_minor": 5
}
